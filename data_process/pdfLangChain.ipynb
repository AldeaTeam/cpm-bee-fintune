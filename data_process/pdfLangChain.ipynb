{
 "cells": [
  {
   "cell_type": "code",
   "execution_count": null,
   "id": "838f66ee",
   "metadata": {},
   "outputs": [],
   "source": [
    "from langchain.document_loaders import TextLoader\n",
    "from langchain.text_splitter import CharacterTextSplitter\n",
    "from langchain.document_loaders import UnstructuredFileLoader\n",
    "from langchain.vectorstores import ElasticVectorSearch, Pinecone, Weaviate, FAISS\n",
    "from langchain.embeddings.openai import OpenAIEmbeddings\n",
    "from PyPDF2 import PdfReader\n",
    "from langchain.chat_models import ChatOpenAI\n",
    "from langchain.chains import QAGenerationChain\n",
    "from langchain.prompts import PromptTemplate\n",
    "from langchain.chains import LLMChain\n",
    "from langchain.llms import OpenAI\n",
    "from langchain.chains.question_answering import load_qa_chain\n",
    "import json"
   ]
  },
  {
   "cell_type": "code",
   "execution_count": null,
   "id": "7b20b0a3",
   "metadata": {},
   "outputs": [],
   "source": [
    "import os\n",
    "os.environ[\"OPENAI_API_KEY\"] = \"xxx\""
   ]
  },
  {
   "cell_type": "code",
   "execution_count": null,
   "id": "364f9a3e",
   "metadata": {},
   "outputs": [],
   "source": [
    "reader = PdfReader('/kaggle/input/track2-aidea/track2-问答式科研知识库/141.pdf')"
   ]
  },
  {
   "cell_type": "code",
   "execution_count": null,
   "id": "7b137565",
   "metadata": {},
   "outputs": [],
   "source": [
    "raw_text = ''\n",
    "for i, page in enumerate(reader.pages):\n",
    "    text = page.extract_text()\n",
    "    if text:\n",
    "        raw_text += text"
   ]
  },
  {
   "cell_type": "code",
   "execution_count": null,
   "id": "c0e9cf27",
   "metadata": {},
   "outputs": [],
   "source": [
    "text_splitter = CharacterTextSplitter(        \n",
    "    separator = \".\",\n",
    "    chunk_size = 300,\n",
    "    chunk_overlap  = 200,\n",
    "    length_function = len,\n",
    ")\n"
   ]
  },
  {
   "cell_type": "code",
   "execution_count": null,
   "id": "60652661",
   "metadata": {},
   "outputs": [],
   "source": [
    "texts = text_splitter.split_text(raw_text)"
   ]
  },
  {
   "cell_type": "code",
   "execution_count": null,
   "id": "3246c55d",
   "metadata": {},
   "outputs": [],
   "source": [
    "chain = QAGenerationChain.from_llm(ChatOpenAI(temperature=0))\n",
    "docsearch = FAISS.from_texts(texts, embeddings)"
   ]
  },
  {
   "cell_type": "code",
   "execution_count": null,
   "id": "95a3a234",
   "metadata": {},
   "outputs": [],
   "source": [
    "paper = []\n",
    "for n in texts:\n",
    "    try:\n",
    "        qa = chain.run(n)\n",
    "        query = qa[0][\"question\"]\n",
    "        docs = docsearch.similarity_search(query)\n",
    "        data = {\n",
    "            \"input\": docs[0].page_content,\n",
    "            \"question\": qa[0][\"question\"],\n",
    "            \"ans\": qa[0][\"answer\"]\n",
    "        }\n",
    "        paper.append(data)\n",
    "    except json.JSONDecodeError:\n",
    "        # 处理无效控制字符的情况\n",
    "        print(\"Skipping documents or answers that contain invalid control characters\")\n",
    "    \n",
    "    print(data)\n",
    "    print()    \n",
    "print(\"------------\")\n",
    "print(paper)"
   ]
  },
  {
   "cell_type": "code",
   "execution_count": null,
   "id": "140fd072",
   "metadata": {},
   "outputs": [],
   "source": [
    "json_str=json.dumps(paper, ensure_ascii=False)\n",
    "\n",
    "with open('141.json', 'w') as f:\n",
    "    json.dump(json_str, f)\n",
    "\n"
   ]
  }
 ],
 "metadata": {
  "kernelspec": {
   "display_name": "Python 3 (ipykernel)",
   "language": "python",
   "name": "python3"
  },
  "language_info": {
   "codemirror_mode": {
    "name": "ipython",
    "version": 3
   },
   "file_extension": ".py",
   "mimetype": "text/x-python",
   "name": "python",
   "nbconvert_exporter": "python",
   "pygments_lexer": "ipython3",
   "version": "3.9.12"
  }
 },
 "nbformat": 4,
 "nbformat_minor": 5
}
